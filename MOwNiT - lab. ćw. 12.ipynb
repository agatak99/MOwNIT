{
 "cells": [
  {
   "cell_type": "markdown",
   "metadata": {},
   "source": [
    "## Rozwiązywanie równań różniczkowych metodami algebry liniowej \n",
    "\n",
    "#### Zadanie 1\n",
    "Zaimplementuj metodą iteracyjną rozwiązywania układów równań Czebyszewa. "
   ]
  },
  {
   "cell_type": "code",
   "execution_count": 10,
   "metadata": {},
   "outputs": [],
   "source": [
    "import numpy as np\n",
    "from scipy.linalg import norm\n",
    "import math\n",
    "import matplotlib.pyplot as plt\n",
    "\n",
    "def solve_chebyshev(A, b, iter_num, l_max, l_min, size = 10, eps = 1e-15):\n",
    "    d = (l_max + l_min) / 2\n",
    "    c = (l_max - l_min) / 2\n",
    "    preCond = np.identity(2)\n",
    "    x = np.zeros(size**2)\n",
    "    r = b - np.matmul(A, x)\n",
    "    iter_count = 0\n",
    "\n",
    "    for i in range(1, iter_num + 1):\n",
    "        iter_count = iter_count + 1\n",
    "        z = np.linalg.solve(A, r)\n",
    "        alpha = 1\n",
    "        if i == 1:\n",
    "            p = z\n",
    "            alpha = 1 / d\n",
    "        elif (i == 2):\n",
    "            beta = (1 / 2) * (c * alpha) ** 2\n",
    "            alpha = 1 / (d - beta / alpha)\n",
    "            p = z + beta * p\n",
    "        else:\n",
    "            beta = (c * alpha / 2) ** 2\n",
    "            alpha = 1 / (d - beta / alpha)\n",
    "            p = z + beta * p\n",
    "        x = x + alpha * p\n",
    "        r = np.matmul(A, x)\n",
    "        r = b - r\n",
    "        if norm(r) < eps:\n",
    "            return [x, iter_count]\n",
    "    return [x, iter_count]"
   ]
  },
  {
   "cell_type": "markdown",
   "metadata": {},
   "source": [
    "#### Zadanie 2\n",
    "Zapoznaj się z prezentacją dr Rycerz o sposobie rozwiązywaniu równania różniczkowego Poissona dla dwóch wymiarów (metoda różnic skończonych).\n",
    "\n",
    "Rozwiąż równanie Poissona w przestrzeni 2D. Funkcja rozkładu źródeł ma postać: $$\\rho(x,y) = \\frac{x+y}{2}$$    \n",
    "Obliczenia dokonujemy w obszarze dwuwymiarowym: $$\\Omega = [0,10] \\times [0,10]$$ Siatkę proszę dobrać samodzielnie tak by obliczenie nie było zbyt długie (na podstawie wcześniejszy testów metod iteracyjnych).   \n",
    "Warunki brzegowe jednorodne Dirichleta: 0 na brzegach. \n",
    "\n",
    "Przedstaw sposób konstrukcji układu równań w metodzie różnic skończonych dla tego równiania. Przedstaw rozwiązanie graficznie. "
   ]
  },
  {
   "attachments": {
    "m1.png": {
     "image/png": "[encoded data removed]"
    }
   },
   "cell_type": "markdown",
   "metadata": {},
   "source": [
    "![m1.png](attachment:m1.png)"
   ]
  },
  {
   "attachments": {
    "m1.png": {
     "image/png": "[encoded data removed]"
    }
   },
   "cell_type": "markdown",
   "metadata": {},
   "source": [
    "#### Postać równania do rozwiązania:\n",
    "![m1.png](attachment:m1.png)"
   ]
  },
  {
   "attachments": {
    "m2.png": {
     "image/png": "[encoded data removed]"
    }
   },
   "cell_type": "markdown",
   "metadata": {},
   "source": [
    "#### Po rozpisaniu operatora Laplace'a uzyskujemy nastepujace równanie:\n",
    " ![m2.png](attachment:m2.png)"
   ]
  },
  {
   "attachments": {
    "m3.png": {
     "image/png": "[encoded data removed]"
    }
   },
   "cell_type": "markdown",
   "metadata": {},
   "source": [
    "#### Zadana postać funkcji rozkładu źródeł: \n",
    " ![m3.png](attachment:m3.png)"
   ]
  },
  {
   "attachments": {
    "m4.png": {
     "image/png": "[encoded data removed]"
    }
   },
   "cell_type": "markdown",
   "metadata": {},
   "source": [
    "#### Jednorodne warunki Dirichleta, zero na brzegach:\n",
    "![m4.png](attachment:m4.png)"
   ]
  },
  {
   "attachments": {
    "image.png": {
     "image/png": "[encoded data removed]"
    }
   },
   "cell_type": "markdown",
   "metadata": {},
   "source": [
    "Aby przybliżyć pochodne za pomocą różnic skończonych wprowadzamy siatkę:\n",
    "![image.png](attachment:image.png)"
   ]
  },
  {
   "attachments": {
    "image.png": {
     "image/png": "[encoded data removed]"
    }
   },
   "cell_type": "markdown",
   "metadata": {},
   "source": [
    "gdzie: \n",
    "![image.png](attachment:image.png)"
   ]
  },
  {
   "cell_type": "markdown",
   "metadata": {},
   "source": [
    "#### Zadanie 3\n",
    "Zastosuj do otrzymanego układu równań metody Gaussa-Seidla, SOR i Czebyszewa. Porównaj zbieżność tych metod. "
   ]
  },
  {
   "cell_type": "code",
   "execution_count": null,
   "metadata": {},
   "outputs": [],
   "source": []
  },
  {
   "cell_type": "code",
   "execution_count": null,
   "metadata": {},
   "outputs": [],
   "source": [
    "import numpy as np \n",
    "\n",
    "def Gauss_Seidel_method(A, B, max_iterations=500, epsilon=1e-10):\n",
    "    DL = np.tril(A)\n",
    "    U = A - DL\n",
    "    DL_inv = np.linalg.inv(DL)\n",
    "    X = np.zeros(len(B))\n",
    "    for i in range(max_iterations):\n",
    "        X_new = np.zeros(len(X))\n",
    "        X_new = np.dot(DL_inv, B - np.dot(U, X))\n",
    "        if np.linalg.norm(X_new - X) < epsilon:\n",
    "            return X_new\n",
    "        X = X_new\n",
    "    return X"
   ]
  },
  {
   "cell_type": "code",
   "execution_count": null,
   "metadata": {},
   "outputs": [],
   "source": [
    "import numpy  as np\n",
    "\n",
    "def sor_solver(A, B, max_iterations = 500, omega = 0.8,  epsilon= 1e-10):\n",
    "    D = np.diag(np.diag(A))\n",
    "    L = np.tril(A - D)\n",
    "    U = A - D - L\n",
    "    D_inv = np.linalg.inv(D)\n",
    "    D_inv_omega = np.dot(D_inv, omega)\n",
    "    X = np.zeros(len(B))\n",
    "    for i in range(max_iterations):\n",
    "        X_new = np.zeros(len(X))\n",
    "        X_new = np.add(np.dot((1- omega), X), np.dot(D_inv_omega, B - np.dot(L, X) - np.dot(U, X)))\n",
    "        if np.linalg.norm(X_new - X) < epsilon:\n",
    "            return X_new\n",
    "        X = X_new\n",
    "    return X"
   ]
  }
 ],
 "metadata": {
  "kernelspec": {
   "display_name": "Python 3",
   "language": "python",
   "name": "python3"
  },
  "language_info": {
   "codemirror_mode": {
    "name": "ipython",
    "version": 3
   },
   "file_extension": ".py",
   "mimetype": "text/x-python",
   "name": "python",
   "nbconvert_exporter": "python",
   "pygments_lexer": "ipython3",
   "version": "3.7.4"
  }
 },
 "nbformat": 4,
 "nbformat_minor": 4
}
